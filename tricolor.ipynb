{
 "cells": [
  {
   "cell_type": "code",
   "execution_count": 31,
   "id": "6574f57d",
   "metadata": {},
   "outputs": [],
   "source": [
    "import numpy as np\n",
    "import matplotlib.pyplot as plt\n",
    "\n"
   ]
  },
  {
   "cell_type": "code",
   "execution_count": 45,
   "id": "7a552cb3",
   "metadata": {},
   "outputs": [
    {
     "data": {
      "image/png": "[encoded data removed]",
      "text/plain": [
       "<Figure size 432x288 with 1 Axes>"
      ]
     },
     "metadata": {
      "needs_background": "light"
     },
     "output_type": "display_data"
    }
   ],
   "source": [
    "#plotting the tricolours in national flag\n",
    "x = plt.Rectangle((0,1), width = 12, height=2, facecolor='green', edgecolor='black')\n",
    "y = plt.Rectangle((0,3), width = 12, height=2, facecolor='white', edgecolor='black')\n",
    "z = plt.Rectangle((0,5), width = 12, height=2, facecolor='#FF6103', edgecolor='black')\n",
    "p,q = plt.subplots()\n",
    "q.add_patch(x)\n",
    "q.add_patch(y)\n",
    "q.add_patch(z)\n",
    "#ashokchakra circle\n",
    "radius=0.8\n",
    "plt.plot(6,4,  marker = 'o', markerfacecolor = '#000088ff' , markersize = 9.5)\n",
    "chakra = plt.Circle((6,4), radius, color='#000088ff', fill= False, linewidth = 7)\n",
    "q.add_artist(chakra)\n",
    "#24 spokes in ashokchakra\n",
    "for i in range(0,24):\n",
    "    a = 6 + radius/2 * np.cos(np.pi*i/12 + np.pi/48)\n",
    "    b = 6 + radius/2 * np.cos(np.pi*i/12 - np.pi/48)\n",
    "    c = 4 + radius/2 * np.sin(np.pi*i/12 + np.pi/48)\n",
    "    d = 4 + radius/2 * np.sin(np.pi*i/12 - np.pi/48)\n",
    "    e = 6 + radius * np.cos(np.pi*i/12)\n",
    "    f = 4 + radius * np.sin(np.pi*i/12)\n",
    "    q.add_patch(patch.Polygon([[6,4], [a,c], [e,f], [b,d]], fill=True, closed=True, color='#000088ff'))\n",
    "plt.axis('equal')\n",
    "plt.show()\n",
    "    \n",
    "    \n",
    "    \n",
    "\n"
   ]
  },
  {
   "cell_type": "code",
   "execution_count": null,
   "id": "aa4ceca5",
   "metadata": {},
   "outputs": [],
   "source": [
    " "
   ]
  }
 ],
 "metadata": {
  "kernelspec": {
   "display_name": "Python 3 (ipykernel)",
   "language": "python",
   "name": "python3"
  },
  "language_info": {
   "codemirror_mode": {
    "name": "ipython",
    "version": 3
   },
   "file_extension": ".py",
   "mimetype": "text/x-python",
   "name": "python",
   "nbconvert_exporter": "python",
   "pygments_lexer": "ipython3",
   "version": "3.10.6"
  }
 },
 "nbformat": 4,
 "nbformat_minor": 5
}
